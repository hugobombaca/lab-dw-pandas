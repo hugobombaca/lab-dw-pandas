{
 "cells": [
  {
   "cell_type": "code",
   "execution_count": 8,
   "metadata": {},
   "outputs": [
    {
     "name": "stdout",
     "output_type": "stream",
     "text": [
      "41390.31196581197\n"
     ]
    }
   ],
   "source": [
    "import numpy as np\n",
    "import pandas as pd\n",
    "url = \"https://raw.githubusercontent.com/data-bootcamp-v4/data/main/file1.csv\"\n",
    "data = pd.read_csv(url)\n",
    "data_cities_series = pd.read_csv(url, usecols = [\"ST\"]).squeeze(\"columns\")\n",
    "data_policy_series = pd.read_csv(url, usecols = [\"Policy Type\"]).squeeze(\"columns\")\n",
    "#pti = data[[\"Policy Type\",\"Income\"]]\n",
    "newdfpersonal = data.loc[data[\"Policy Type\"] == \"Personal Auto\"]#locates the vlaues named \"personal auto\"\n",
    "averageincomepersonal = newdfpersonal[\"Income\"].mean()#calculates the mean income for that value \n",
    "newdfcorporate = data.loc[data[\"Policy Type\"] == \"Corporate Auto\"]#patita patataa same thing but with different value\n",
    "averageincomecorporate = newdfcorporate[\"Income\"].mean()# :)\n",
    "\n",
    "# The line `columtype = data.dtypes` is assigning the data types of each column in the `data`\n",
    "# DataFrame to the variable `columtype`. By calling `data.dtypes`, it returns a Series object that\n",
    "# contains the data types of each column. In this case, it is indicating that many of the columns have\n",
    "# a data type of \"object\", which means they are a combination of different types. For example, the\n",
    "# \"CLV\" column should ideally be either a float or an integer, and the \"policy type\" column should\n",
    "# ideally be a string type. This suggests that there may be inconsistencies or issues with the data\n",
    "# types in the dataset that need to bx§e addressed.\n",
    "columtype = data.dtypes # a lot of the data types are \"object\" which mean they are a lot of types combined , for example CLV is an object wile it should be eithr a float or a int, or policy type should be a string type\n",
    "uniquetypes = data.nunique() # gender has 5 different values while it shouldhave 2 for example wich means there are outliers that need to be removed or different types of the same string wich need to be converted all into a word of the same meaning.\n",
    "stats = data.describe()\n",
    "dimension = data.shape\n",
    "sortedlistcity = data_cities_series.value_counts().nsmallest(5) # counts the values and then chooses the n smallest (n is the amount of elemntes we want to inspect)\n",
    "sortedlistpolicy = data_policy_series.value_counts().nlargest(1) #same thing but with the largest value.... ty chat gpt for that little method right there\n",
    "#Customer - numerical\n",
    "#ST _ categorical\n",
    "#Gender - Categorical\n",
    "#education - Categorical\n",
    "#education - Categorical\n",
    "#CLV- numerical\n",
    "#income - numerical\n",
    "#MPA - numerical\n",
    "#NOC - categorical\n",
    "#policy type - categorical\n",
    "#vehicle class - categorical\n",
    "#TCA - numerical\n",
    "print(averageincomecorporate)\n",
    "\n",
    "\n"
   ]
  }
 ],
 "metadata": {
  "kernelspec": {
   "display_name": "base",
   "language": "python",
   "name": "python3"
  },
  "language_info": {
   "codemirror_mode": {
    "name": "ipython",
    "version": 3
   },
   "file_extension": ".py",
   "mimetype": "text/x-python",
   "name": "python",
   "nbconvert_exporter": "python",
   "pygments_lexer": "ipython3",
   "version": "3.11.5"
  }
 },
 "nbformat": 4,
 "nbformat_minor": 2
}
